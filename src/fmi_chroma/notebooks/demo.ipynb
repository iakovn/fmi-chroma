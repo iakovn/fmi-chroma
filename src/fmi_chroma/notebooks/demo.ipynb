{
  "cells": [
    {
      "cell_type": "markdown",
      "id": "f84af9b8",
      "metadata": {},
      "source": [
        "# Demo Notebook\n",
        "This is a demo for Jupytext synchronization."
      ]
    },
    {
      "cell_type": "markdown",
      "id": "57f2bca5",
      "metadata": {},
      "source": [
        "## Example: Compile Modelica Model to FMU, Simulate, and Plot Results\n",
        "\n",
        "This example demonstrates how to:\n",
        "1. Export `Modelica.Fluid.Examples.HeatingSystem` as a Co-Simulation FMU using OMPython.\n",
        "2. Simulate the FMU using fmpy.\n",
        "3. Plot sensor outputs (e.g., rotations speed) as a function of time."
      ]
    },
    {
      "cell_type": "code",
      "execution_count": null,
      "id": "a34f9e12",
      "metadata": {
        "execution": {
          "iopub.execute_input": "2025-07-23T14:29:37.866589Z",
          "iopub.status.busy": "2025-07-23T14:29:37.866175Z",
          "iopub.status.idle": "2025-07-23T14:29:38.223452Z",
          "shell.execute_reply": "2025-07-23T14:29:38.222680Z"
        }
      },
      "outputs": [],
      "source": [
        "import os\n",
        "\n",
        "import matplotlib.pyplot as plt\n",
        "from fmpy import simulate_fmu\n",
        "from OMPython import OMCSessionZMQ\n",
        "\n",
        "from fmi_chroma.ompython import (\n",
        "    FMUExportError,\n",
        "    ModelicaLoadError,\n",
        "    ensure_modelica_library,\n",
        "    execute_omc_command,\n",
        ")"
      ]
    },
    {
      "cell_type": "code",
      "execution_count": null,
      "id": "b1c2deac",
      "metadata": {
        "execution": {
          "iopub.execute_input": "2025-07-23T14:29:38.225347Z",
          "iopub.status.busy": "2025-07-23T14:29:38.225092Z",
          "iopub.status.idle": "2025-07-23T14:29:38.626610Z",
          "shell.execute_reply": "2025-07-23T14:29:38.625848Z"
        }
      },
      "outputs": [],
      "source": [
        "omc = OMCSessionZMQ()\n",
        "execute_omc_command(\n",
        "    omc, 'cd(\"/workspaces/fmi-chroma/.generated\")', \"Failed to change directory\"\n",
        ")"
      ]
    },
    {
      "cell_type": "code",
      "execution_count": null,
      "id": "8fe74cc5",
      "metadata": {
        "execution": {
          "iopub.execute_input": "2025-07-23T14:29:38.628412Z",
          "iopub.status.busy": "2025-07-23T14:29:38.628232Z",
          "iopub.status.idle": "2025-07-23T14:29:38.632138Z",
          "shell.execute_reply": "2025-07-23T14:29:38.631584Z"
        }
      },
      "outputs": [],
      "source": [
        "# Settings\n",
        "model_name = \"Modelica.Fluid.Examples.HeatingSystem\"\n",
        "model_name = \"Modelica.Fluid.Examples.PumpingSystem\"\n",
        "model_name = \"Modelica.Blocks.Examples.PID_Controller\"\n",
        "fmu_filename = (\n",
        "    f\"/workspaces/fmi-chroma/.generated/{model_name.split('.')[-1]}.fmu\"\n",
        ")\n",
        "\n",
        "# Step 1: Export the Modelica model as a Co-Simulation FMU\n",
        "if not os.path.exists(fmu_filename):\n",
        "    print(f\"Exporting {model_name} to {fmu_filename} ...\")\n",
        "\n",
        "    # Ensure Modelica Standard Library 4.0.0 is available\n",
        "    if not ensure_modelica_library(omc, version=\"4.0.0\"):\n",
        "        raise ModelicaLoadError()\n",
        "\n",
        "    # Build the FMU\n",
        "    try:\n",
        "        fmu_filename = execute_omc_command(\n",
        "            omc,\n",
        "            f'buildModelFMU({model_name}, version=\"2.0\", fmuType=\"cs\")',\n",
        "            f\"Failed to export {model_name} as an FMU\",\n",
        "        )\n",
        "        print(f\"FMU exported: {fmu_filename}\")\n",
        "    except RuntimeError as e:\n",
        "        raise FMUExportError(str(e)) from e\n",
        "else:\n",
        "    print(f\"FMU already exists: {fmu_filename}\")"
      ]
    },
    {
      "cell_type": "code",
      "execution_count": null,
      "id": "779b487f",
      "metadata": {
        "execution": {
          "iopub.execute_input": "2025-07-23T14:29:38.633485Z",
          "iopub.status.busy": "2025-07-23T14:29:38.633334Z",
          "iopub.status.idle": "2025-07-23T14:29:38.778414Z",
          "shell.execute_reply": "2025-07-23T14:29:38.777750Z"
        },
        "lines_to_next_cell": 2
      },
      "outputs": [],
      "source": [
        "# Step 2: Collect and print diagram information\n",
        "# Load the model for inspection\n",
        "execute_omc_command(\n",
        "    omc, f\"loadModel({model_name})\", f\"Failed to load {model_name}\"\n",
        ")\n",
        "\n",
        "# Get all components in a single call\n",
        "print(f\"Fetching components for {model_name}...\")\n",
        "components = (\n",
        "    execute_omc_command(\n",
        "        omc,\n",
        "        f\"getComponents({model_name})\",\n",
        "        f\"Failed to get components for {model_name}\",\n",
        "    )\n",
        "    or []\n",
        ")\n",
        "print(f\"Found {len(components)} components.\")\n",
        "\n",
        "# Get all connections in a single call\n",
        "print(f\"Fetching connections for {model_name}...\")\n",
        "connections = (\n",
        "    execute_omc_command(\n",
        "        omc,\n",
        "        f\"getConnectionList({model_name})\",\n",
        "        f\"Failed to get connections for {model_name}\",\n",
        "    )\n",
        "    or []\n",
        ")\n",
        "print(f\"Found {len(connections)} connections.\")\n",
        "\n",
        "print(\"\\n--- Components ---\")\n",
        "for comp in components:\n",
        "    # Record: {className, instanceName, origin, extent, rotation}\n",
        "    print(f\"  - Class: {comp[1]}, Name: {comp[2]}\")\n",
        "\n",
        "\n",
        "print(\"\\n--- Connections ---\")\n",
        "for conn in connections:\n",
        "    # Record: {from, to, color, lineStyle, etc.}\n",
        "    print(f\"  - From: {conn[0]} To: {conn[1]}\")"
      ]
    },
    {
      "cell_type": "code",
      "execution_count": null,
      "id": "159b11a6",
      "metadata": {},
      "outputs": [],
      "source": [
        "# Step 3: Simulate the FMU using fmpy\n",
        "print(\"Simulating the FMU ...\")\n",
        "result = simulate_fmu(fmu_filename, start_time=0, stop_time=4)\n",
        "\n",
        "# Step 4: Plot results\n",
        "# List available variables\n",
        "print(\"Available variables:\", result.dtype.names)\n",
        "\n",
        "# Example: Plot rotation speed as a function of time\n",
        "plt.figure(figsize=(10, 6))\n",
        "plt.plot(result[\"time\"], result[\"inertia2.w\"], label=\"inertia2.w\")\n",
        "\n",
        "plt.xlabel(\"Time [s]\")\n",
        "plt.ylabel(\"Temperature [K]\")\n",
        "plt.title(\"Sensor Temperatures vs Time\")\n",
        "plt.legend()\n",
        "plt.grid(True)\n",
        "plt.show()"
      ]
    }
  ],
  "metadata": {
    "jupytext": {
      "formats": "ipynb,py:percent",
      "notebook_metadata_filter": "all"
    },
    "kernelspec": {
      "display_name": "Python 3",
      "language": "python",
      "name": "python3"
    },
    "language_info": {
      "codemirror_mode": {
        "name": "ipython",
        "version": 3
      },
      "file_extension": ".py",
      "mimetype": "text/x-python",
      "name": "python",
      "nbconvert_exporter": "python",
      "pygments_lexer": "ipython3",
      "version": "3.12.11"
    }
  },
  "nbformat": 4,
  "nbformat_minor": 5
}
