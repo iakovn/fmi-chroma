{
  "cells": [
    {
      "cell_type": "markdown",
      "id": "f84af9b8",
      "metadata": {},
      "source": [
        "# Demo Notebook\n",
        "This is a demo for Jupytext synchronization."
      ]
    },
    {
      "cell_type": "markdown",
      "id": "57f2bca5",
      "metadata": {},
      "source": [
        "## Example: Compile Modelica Model to FMU, Simulate, and Plot Results\n",
        "\n",
        "This example demonstrates how to:\n",
        "1. Export `Modelica.Fluid.Examples.HeatingSystem` as a Co-Simulation FMU using OMPython.\n",
        "2. Simulate the FMU using fmpy.\n",
        "3. Plot sensor outputs (e.g., temperature) as a function of time."
      ]
    },
    {
      "cell_type": "code",
      "execution_count": 1,
      "id": "a34f9e12",
      "metadata": {
        "execution": {
          "iopub.execute_input": "2025-07-23T13:59:39.380870Z",
          "iopub.status.busy": "2025-07-23T13:59:39.380274Z",
          "iopub.status.idle": "2025-07-23T13:59:39.812547Z",
          "shell.execute_reply": "2025-07-23T13:59:39.812061Z"
        }
      },
      "outputs": [],
      "source": [
        "import os\n",
        "from typing import Any\n",
        "\n",
        "import matplotlib.pyplot as plt\n",
        "from fmpy import simulate_fmu\n",
        "from OMPython import OMCSessionZMQ\n",
        "\n",
        "\n",
        "def execute_omc_command(\n",
        "    omc: OMCSessionZMQ,\n",
        "    command: str,\n",
        "    error_message: str = \"\",\n",
        "    parsed: bool = True,\n",
        ") -> Any:\n",
        "    \"\"\"\n",
        "    Execute an OMC command and handle errors.\n",
        "\n",
        "    Args:\n",
        "        omc: OMCSessionZMQ instance\n",
        "        command: Command to execute\n",
        "        error_message: Custom error message to display if command fails\n",
        "\n",
        "    Returns:\n",
        "        The result of the command or raises RuntimeError if it fails\n",
        "    \"\"\"\n",
        "    result = omc.sendExpression(command, parsed=parsed)\n",
        "    if result is None:\n",
        "        error = (\n",
        "            omc.sendExpression(\"getErrorString()\", parsed=False)\n",
        "            or \"No error details available\"\n",
        "        )\n",
        "        full_error = (\n",
        "            f\"{error_message}\\nError executing command: {command}\\n{error}\"\n",
        "        )\n",
        "        raise RuntimeError(full_error)\n",
        "    return result\n",
        "\n",
        "\n",
        "class ModelicaLoadError(Exception):\n",
        "    \"\"\"Raised when loading the Modelica library fails.\"\"\"\n",
        "\n",
        "    def __init__(\n",
        "        self, message=\"Failed to ensure Modelica Standard Library is available\"\n",
        "    ):\n",
        "        self.message = message\n",
        "        super().__init__(self.message)\n",
        "\n",
        "\n",
        "class FMUExportError(Exception):\n",
        "    \"\"\"Raised when FMU export fails.\"\"\"\n",
        "\n",
        "    pass\n",
        "\n",
        "\n",
        "def ensure_modelica_library(omc, version=\"4.0.0\"):\n",
        "    \"\"\"\n",
        "    Ensure Modelica Standard Library is available, install if necessary.\n",
        "\n",
        "    Args:\n",
        "        omc: OMCSessionZMQ instance\n",
        "        version: Modelica Standard Library version to install (default: \"4.0.0\")\n",
        "\n",
        "    Returns:\n",
        "        bool: True if library is available, raises exception on error\n",
        "    \"\"\"\n",
        "    print(f\"Checking for Modelica Standard Library version {version}...\")\n",
        "\n",
        "    # First, try to load the Modelica library\n",
        "    try:\n",
        "        result = execute_omc_command(\n",
        "            omc,\n",
        "            f'loadModel(Modelica,{{\"{version}\"}})',\n",
        "            f\"Failed to load Modelica Standard Library {version}\",\n",
        "        )\n",
        "    except RuntimeError as e:\n",
        "        print(\n",
        "            f\"Modelica Standard Library {version} not found. Attempting to install...\"\n",
        "        )\n",
        "        print(f\"Note: {str(e).split('\\n')[0]}\")\n",
        "    else:\n",
        "        print(f\"Modelica Standard Library {version} loaded ({result}).\")\n",
        "        return True\n",
        "\n",
        "    try:\n",
        "        # Try to install the specific version using installPackage\n",
        "        print(f\"Installing Modelica Standard Library {version}...\")\n",
        "        execute_omc_command(\n",
        "            omc,\n",
        "            f'installPackage(Modelica, \"{version}\")',\n",
        "            f\"Failed to install Modelica Standard Library {version}\",\n",
        "        )\n",
        "\n",
        "        print(f\"Successfully installed Modelica Standard Library {version}\")\n",
        "\n",
        "        # Verify the installation by loading it\n",
        "        try:\n",
        "            execute_omc_command(\n",
        "                omc,\n",
        "                f'loadModel(Modelica,{{\"{version}\"}})',\n",
        "                \"Installation reported success but library failed to load\",\n",
        "            )\n",
        "        except RuntimeError as load_error:\n",
        "            print(\n",
        "                f\"Failed to load installed library: {str(load_error).split('\\n')[0]}\"\n",
        "            )\n",
        "            return False\n",
        "        else:\n",
        "            print(\"Modelica library loaded successfully after installation.\")\n",
        "            return True\n",
        "\n",
        "    except RuntimeError as e:\n",
        "        print(\n",
        "            f\"Failed to install Modelica Standard Library: {str(e).split('\\n')[0]}\"\n",
        "        )\n",
        "        print(\"Please install it manually or check your installation.\")\n",
        "        return False"
      ]
    },
    {
      "cell_type": "code",
      "execution_count": 2,
      "id": "b1c2deac",
      "metadata": {
        "execution": {
          "iopub.execute_input": "2025-07-23T13:59:39.814607Z",
          "iopub.status.busy": "2025-07-23T13:59:39.814418Z",
          "iopub.status.idle": "2025-07-23T13:59:40.214886Z",
          "shell.execute_reply": "2025-07-23T13:59:40.213853Z"
        }
      },
      "outputs": [
        {
          "data": {
            "text/plain": [
              "'/workspaces/fmi-chroma/.generated'"
            ]
          },
          "execution_count": 2,
          "metadata": {},
          "output_type": "execute_result"
        }
      ],
      "source": [
        "omc = OMCSessionZMQ()\n",
        "execute_omc_command(\n",
        "    omc, 'cd(\"/workspaces/fmi-chroma/.generated\")', \"Failed to change directory\"\n",
        ")"
      ]
    },
    {
      "cell_type": "code",
      "execution_count": 3,
      "id": "8fe74cc5",
      "metadata": {
        "execution": {
          "iopub.execute_input": "2025-07-23T13:59:40.217198Z",
          "iopub.status.busy": "2025-07-23T13:59:40.217007Z",
          "iopub.status.idle": "2025-07-23T13:59:40.221138Z",
          "shell.execute_reply": "2025-07-23T13:59:40.220438Z"
        }
      },
      "outputs": [
        {
          "name": "stdout",
          "output_type": "stream",
          "text": [
            "FMU already exists: /workspaces/fmi-chroma/.generated/PID_Controller.fmu\n"
          ]
        }
      ],
      "source": [
        "# Settings\n",
        "model_name = \"Modelica.Fluid.Examples.HeatingSystem\"\n",
        "model_name = \"Modelica.Fluid.Examples.PumpingSystem\"\n",
        "model_name = \"Modelica.Blocks.Examples.PID_Controller\"\n",
        "fmu_filename = (\n",
        "    f\"/workspaces/fmi-chroma/.generated/{model_name.split('.')[-1]}.fmu\"\n",
        ")\n",
        "\n",
        "# Step 1: Export the Modelica model as a Co-Simulation FMU\n",
        "if not os.path.exists(fmu_filename):\n",
        "    print(f\"Exporting {model_name} to {fmu_filename} ...\")\n",
        "\n",
        "    # Ensure Modelica Standard Library 4.0.0 is available\n",
        "    if not ensure_modelica_library(omc, version=\"4.0.0\"):\n",
        "        raise ModelicaLoadError()\n",
        "\n",
        "    # Build the FMU\n",
        "    try:\n",
        "        fmu_filename = execute_omc_command(\n",
        "            omc,\n",
        "            f'buildModelFMU({model_name}, version=\"2.0\", fmuType=\"cs\")',\n",
        "            f\"Failed to export {model_name} as an FMU\",\n",
        "        )\n",
        "        print(f\"FMU exported: {fmu_filename}\")\n",
        "    except RuntimeError as e:\n",
        "        raise FMUExportError(str(e)) from e\n",
        "else:\n",
        "    print(f\"FMU already exists: {fmu_filename}\")"
      ]
    },
    {
      "cell_type": "code",
      "execution_count": 4,
      "id": "779b487f",
      "metadata": {
        "execution": {
          "iopub.execute_input": "2025-07-23T13:59:40.222771Z",
          "iopub.status.busy": "2025-07-23T13:59:40.222634Z",
          "iopub.status.idle": "2025-07-23T13:59:40.365633Z",
          "shell.execute_reply": "2025-07-23T13:59:40.365252Z"
        }
      },
      "outputs": [
        {
          "name": "stdout",
          "output_type": "stream",
          "text": [
            "Simulating the FMU ...\n",
            "Available variables: ('time', 'PI.I.y', 'inertia1.phi', 'inertia2.w', 'integrator.y', 'spring.phi_rel')\n"
          ]
        },
        {
          "data": {
            "image/png": "[encoded data removed]",
            "text/plain": [
              "<Figure size 1000x600 with 1 Axes>"
            ]
          },
          "metadata": {},
          "output_type": "display_data"
        }
      ],
      "source": [
        "# Step 2: Simulate the FMU using fmpy\n",
        "print(\"Simulating the FMU ...\")\n",
        "result = simulate_fmu(fmu_filename, start_time=0, stop_time=2000)\n",
        "\n",
        "# Step 3: Plot results\n",
        "# List available variables\n",
        "print(\"Available variables:\", result.dtype.names)\n",
        "\n",
        "# Example: Plot temperatures of two sensors as a function of time\n",
        "plt.figure(figsize=(10, 6))\n",
        "plt.plot(result[\"time\"], result[\"inertia2.w\"], label=\"inertia2.w\")\n",
        "\n",
        "plt.xlabel(\"Time [s]\")\n",
        "plt.ylabel(\"Temperature [K]\")\n",
        "plt.title(\"Sensor Temperatures vs Time\")\n",
        "plt.legend()\n",
        "plt.grid(True)\n",
        "plt.show()\n",
        "\n",
        "# Note: Variable names may differ depending on the FMU structure. Use the print above to inspect them."
      ]
    }
  ],
  "metadata": {
    "jupytext": {
      "formats": "ipynb,py:percent",
      "notebook_metadata_filter": "all"
    },
    "kernelspec": {
      "display_name": "Python 3",
      "language": "python",
      "name": "python3"
    },
    "language_info": {
      "codemirror_mode": {
        "name": "ipython",
        "version": 3
      },
      "file_extension": ".py",
      "mimetype": "text/x-python",
      "name": "python",
      "nbconvert_exporter": "python",
      "pygments_lexer": "ipython3",
      "version": "3.12.11"
    }
  },
  "nbformat": 4,
  "nbformat_minor": 5
}
