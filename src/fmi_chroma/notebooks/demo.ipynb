{
  "cells": [
    {
      "cell_type": "markdown",
      "id": "f84af9b8",
      "metadata": {},
      "source": [
        "# Demo Notebook\n",
        "This is a demo for Jupytext synchronization."
      ]
    },
    {
      "cell_type": "code",
      "execution_count": null,
      "id": "a34f9e12",
      "metadata": {},
      "outputs": [],
      "source": [
        "print(\"Hello from the demo notebook!\")"
      ]
    }
  ],
  "metadata": {
    "jupytext": {
      "formats": "ipynb,py:percent"
    },
    "kernelspec": {
      "display_name": "Python 3",
      "language": "python",
      "name": "python3"
    },
    "language_info": {
      "name": "python",
      "version": "3.11"
    }
  },
  "nbformat": 4,
  "nbformat_minor": 5
}
